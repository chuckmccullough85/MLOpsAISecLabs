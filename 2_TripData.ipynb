{
 "cells": [
  {
   "cell_type": "markdown",
   "metadata": {},
   "source": [
    "# Overview\n",
    "In this lab, we will import some taxi data from the NYC website and do some preliminary analysis. We will use the `pandas` library to load the data and perform some basic operations.\n",
    "\n",
    "| | |\n",
    "| --------- | --------------------------- |\n",
    "| Notebook  | 2_TripData.ipynb    |\n",
    "| Builds On | Setup |\n",
    "| Time to complete | 20 minutes\n",
    "\n",
    "## Step 1: Import the necessary libraries.\n"
   ]
  },
  {
   "cell_type": "code",
   "execution_count": null,
   "metadata": {},
   "outputs": [],
   "source": [
    "import pandas as pd\n",
    "import seaborn as sns"
   ]
  },
  {
   "cell_type": "markdown",
   "metadata": {},
   "source": [
    "\n",
    "## Step 2 : Load the data\n",
    "\n",
    "The data output (`df.head()`) gives us a sample of the data.  Not all of the information is useful for our modeling effort."
   ]
  },
  {
   "cell_type": "code",
   "execution_count": null,
   "metadata": {},
   "outputs": [],
   "source": [
    "df = pd.read_pickle('../tripdata.pkl')\n",
    "df.head()"
   ]
  },
  {
   "cell_type": "markdown",
   "metadata": {},
   "source": [
    "## Step 3: Analysis\n",
    "Use the data frame `info` and `describe` methods to get a sense of the data.  \n",
    "\n",
    "In the code cells below, call the `info` and `describe` methods on the data frame to get a sense of the data."
   ]
  },
  {
   "cell_type": "code",
   "execution_count": null,
   "metadata": {},
   "outputs": [],
   "source": []
  },
  {
   "cell_type": "code",
   "execution_count": null,
   "metadata": {},
   "outputs": [],
   "source": []
  },
  {
   "cell_type": "markdown",
   "metadata": {},
   "source": [
    "## Step 4: Calculating the trip time\n",
    "We can subtract the pickup time from the dropoff time to get the trip time.  \n",
    "By subtracting the pickup time from the dropoff time, we can calculate the trip time.  This will be useful for our analysis.\n",
    "\n",
    "Create a new column named `duration` in the data frame that contains the trip time in minutes.  (the suggested code is below in comments)"
   ]
  },
  {
   "cell_type": "code",
   "execution_count": null,
   "metadata": {},
   "outputs": [],
   "source": [
    "# df['duration'] = (df['lpep_dropoff_datetime'] - \\\n",
    "#                   df['lpep_pickup_datetime']) \\\n",
    "#                 .dt.total_seconds() / 60\n",
    "# df.head()"
   ]
  },
  {
   "cell_type": "markdown",
   "metadata": {},
   "source": [
    "We can also visualize the data by doing a plot."
   ]
  },
  {
   "cell_type": "code",
   "execution_count": null,
   "metadata": {},
   "outputs": [],
   "source": [
    "sns.histplot(df['duration'])"
   ]
  }
 ],
 "metadata": {
  "kernelspec": {
   "display_name": "base",
   "language": "python",
   "name": "python3"
  },
  "language_info": {
   "codemirror_mode": {
    "name": "ipython",
    "version": 3
   },
   "file_extension": ".py",
   "mimetype": "text/x-python",
   "name": "python",
   "nbconvert_exporter": "python",
   "pygments_lexer": "ipython3",
   "version": "3.12.4"
  }
 },
 "nbformat": 4,
 "nbformat_minor": 2
}
