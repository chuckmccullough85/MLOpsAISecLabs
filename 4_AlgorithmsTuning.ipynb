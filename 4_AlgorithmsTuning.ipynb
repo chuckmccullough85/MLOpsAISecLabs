{
 "cells": [
  {
   "cell_type": "markdown",
   "metadata": {},
   "source": [
    "# Overview\n",
    "Continuing with the previous notebook, try other algorithms and hyperparameters to improve the model.\n",
    "\n",
    "| | |\n",
    "| --------- | --------------------------- |\n",
    "| Notebook  | 4_AlgorithmsTuning.ipynb    |\n",
    "| Builds On | ModelTrain |\n",
    "| Time to complete | 20 minutes\n",
    "\n",
    "Execute the first code cell to load the data and prepare the model and train with linear regression. (results of the previous notebook)"
   ]
  },
  {
   "cell_type": "code",
   "execution_count": null,
   "metadata": {},
   "outputs": [],
   "source": [
    "import pandas as pd\n",
    "import seaborn as sns\n",
    "import matplotlib.pyplot as plt\n",
    "from sklearn.feature_extraction import DictVectorizer\n",
    "from sklearn.linear_model import LinearRegression  # this is your ALGORITHM\n",
    "from sklearn.linear_model import Ridge\n",
    "from sklearn.linear_model import Lasso\n",
    "from sklearn.metrics import root_mean_squared_error\n",
    "\n",
    "df = pd.read_pickle('../tripdata.pkl')\n",
    "df['duration'] = (df['lpep_dropoff_datetime'] - df['lpep_pickup_datetime']).dt.total_seconds() / 60\n",
    "df = df[(df.duration > 1) & (df.duration < 60)]\n",
    "#sns.histplot(df['duration'])\n",
    "categorical = ['PULocationID', 'DOLocationID']\n",
    "numerical = ['trip_distance']\n",
    "df[categorical] = df[categorical].astype(str)\n",
    "\n",
    "\n",
    "train_dicts = df[categorical + numerical].to_dict(orient='records')\n",
    "\n",
    "dv = DictVectorizer()\n",
    "\n",
    "X_train = dv.fit_transform(train_dicts)  # All of my features in a sparse matrix (0's and 1's)\n",
    "\n",
    "target = 'duration'   # this is my y value... what I'm trying to predict\n",
    "y_train = df[target].values\n",
    "\n",
    "lr = LinearRegression()\n",
    "lr.fit(X_train, y_train)\n",
    "\n",
    "y_pred = lr.predict(X_train)\n",
    "\n",
    "root_mean_squared_error(y_train, y_pred)\n"
   ]
  },
  {
   "cell_type": "code",
   "execution_count": null,
   "metadata": {},
   "outputs": [],
   "source": [
    "\n",
    "sns.histplot(y_pred, label='predicted', kde=True)\n",
    "sns.histplot(y_train, label='actual', kde=True)\n",
    "plt.legend()"
   ]
  },
  {
   "cell_type": "markdown",
   "metadata": {},
   "source": [
    "### Ridge Regression\n",
    "Ridge regression is a linear regression model with L2 regularization. The regularization term is the L2 norm of the weights vector. The regularization term is multiplied by the regularization strength, alpha. The regularization strength is a hyperparameter that controls how much the model is regularized. The higher the value of alpha, the more the model is regularized."
   ]
  },
  {
   "cell_type": "code",
   "execution_count": null,
   "metadata": {},
   "outputs": [],
   "source": [
    "# try different alpha values\n",
    "lr = Ridge(alpha=1000)\n",
    "# see code above for LinearRegression to fit the model with Ridge and show the RMSE\n",
    "\n"
   ]
  },
  {
   "cell_type": "code",
   "execution_count": null,
   "metadata": {},
   "outputs": [],
   "source": [
    "sns.histplot(y_pred, label='predicted', kde=True)\n",
    "sns.histplot(y_train, label='actual', kde=True)\n",
    "plt.legend()"
   ]
  },
  {
   "cell_type": "markdown",
   "metadata": {},
   "source": [
    "### Lasso Regression\n",
    "Lasso regression is a linear regression model with L1 regularization. The regularization term is the L1 norm of the weights vector. The regularization term is multiplied by the regularization strength, alpha. The regularization strength is a hyperparameter that controls how much the model is regularized. The higher the value of alpha, the more the model is regularized."
   ]
  },
  {
   "cell_type": "code",
   "execution_count": null,
   "metadata": {},
   "outputs": [],
   "source": [
    "# try different hyperparameters\n",
    "lr = Lasso(.01)\n",
    "\n",
    "# see code above for LinearRegression to fit the model with Lasso and show the RMSE"
   ]
  }
 ],
 "metadata": {
  "kernelspec": {
   "display_name": "base",
   "language": "python",
   "name": "python3"
  },
  "language_info": {
   "codemirror_mode": {
    "name": "ipython",
    "version": 3
   },
   "file_extension": ".py",
   "mimetype": "text/x-python",
   "name": "python",
   "nbconvert_exporter": "python",
   "pygments_lexer": "ipython3",
   "version": "3.12.4"
  }
 },
 "nbformat": 4,
 "nbformat_minor": 2
}
