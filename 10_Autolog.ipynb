{
 "cells": [
  {
   "cell_type": "markdown",
   "id": "08793612-8390-419d-83ba-c5a48d91900d",
   "metadata": {},
   "source": [
    "Lab: Automatic Logging with MLflow Tracking\n",
    "================\n",
    "\n",
    "| | |\n",
    "| --------- | --------------------------- |\n",
    "| Notebook  | 10_Autolog.ipynb    |\n",
    "| Builds On | none |\n",
    "| Time to complete | 20 minutes"
   ]
  },
  {
   "cell_type": "markdown",
   "id": "ba84c52b",
   "metadata": {},
   "source": [
    "# Automatic Logging with MLflow Tracking\n",
    "\n",
    "Auto logging is a powerful feature that allows you to log metrics, parameters, and models without the need for explicit log statements. All you need to do is to call mlflow.autolog() before your training code.\n",
    "\n",
    "```\n",
    "import mlflow\n",
    "\n",
    "mlflow.autolog()\n",
    "\n",
    "with mlflow.start_run():\n",
    "    # your training code goes here\n",
    "    ...\n",
    "```\n",
    "\n"
   ]
  },
  {
   "cell_type": "code",
   "execution_count": null,
   "id": "59737515-832b-4a92-ab85-842f38949bd3",
   "metadata": {},
   "outputs": [],
   "source": [
    "import mlflow\n",
    "\n",
    "mlflow.set_tracking_uri(\"http://localhost:5000\")\n",
    "mlflow.set_experiment(\"check-localhost-connection\")\n",
    "\n",
    "with mlflow.start_run():\n",
    "    mlflow.log_metric(\"foo\", 1)\n",
    "    mlflow.log_metric(\"bar\", 2)"
   ]
  },
  {
   "cell_type": "markdown",
   "id": "aecbc5c8",
   "metadata": {},
   "source": [
    "\n",
    "\n",
    "This will enable MLflow to automatically log various information about\n",
    "your run, including:\n",
    "\n",
    "- **Metrics** - MLflow pre-selects a set of metrics to log, based on\n",
    "    what model and library you use\n",
    "- **Parameters** - hyper params specified for the training, plus\n",
    "    default values provided by the library if not explicitly set\n",
    "- **Model Signature** - logs Model signature instance, which describes input and output schema of the model\n",
    "- **Artifacts** - e.g. model checkpoints\n",
    "- **Dataset** - dataset object used for training (if applicable), such\n",
    "    as tensorflow.data.Dataset\n",
    "\n",
    "\n",
    "\n",
    "### Step 1 - Insert `mlflow.autolog` in Your Code\n",
    "\n",
    "For example, following code snippet shows how to enable autologging for\n",
    "a scikit-learn model:\n",
    "\n"
   ]
  },
  {
   "cell_type": "code",
   "execution_count": null,
   "id": "6faa987c-5db4-434c-870b-4db016cd9bb7",
   "metadata": {},
   "outputs": [],
   "source": [
    "import mlflow\n",
    "\n",
    "from sklearn.model_selection import train_test_split\n",
    "from sklearn.datasets import load_diabetes\n",
    "from sklearn.ensemble import RandomForestRegressor\n",
    "\n",
    "mlflow.autolog()\n",
    "\n",
    "db = load_diabetes()\n",
    "X_train, X_test, y_train, y_test = train_test_split(db.data, db.target)\n",
    "\n",
    "rf = RandomForestRegressor(n_estimators=100, max_depth=6, max_features=3)\n",
    "# MLflow triggers logging automatically upon model fitting\n",
    "rf.fit(X_train, y_train)\n"
   ]
  },
  {
   "cell_type": "markdown",
   "id": "40242ca3",
   "metadata": {},
   "source": [
    "\n",
    "\n",
    "### Step 2 - Execute Your Code \n",
    "\n",
    "Execute your code in the jupyter or python notebook.\n",
    "\n",
    "\n",
    "### Step 3 - View Your Results in the MLflow UI\n",
    "\n",
    "\n",
    "## Customize Autologging Behavior\n",
    "\n",
    "You can also control the behavior of autologging by passing arguments to `mlflow.autolog()` function. For example, you can disable logging of model checkpoints and assosiate tags with your run as follows:\n",
    "\n",
    "\n",
    "```\n",
    "import mlflow\n",
    "\n",
    "mlflow.autolog(\n",
    "    log_model_signatures=False,\n",
    "    extra_tags={\"YOUR_TAG\": \"VALUE\"},\n",
    ")\n",
    "```\n"
   ]
  },
  {
   "cell_type": "code",
   "execution_count": null,
   "id": "531cbedc-5080-4c6e-8354-c0da6c8924db",
   "metadata": {},
   "outputs": [],
   "source": [
    "import mlflow\n",
    "\n",
    "mlflow.autolog(\n",
    "    log_model_signatures=False,\n",
    "    extra_tags={\"YOUR_TAG\": \"VALUE\"},\n",
    ")\n"
   ]
  },
  {
   "cell_type": "markdown",
   "id": "82163d7c",
   "metadata": {},
   "source": [
    "\n",
    "\n",
    "### Enable / Disable Autologging for Specific Libraries\n",
    "\n",
    "\n",
    "One common use case is to enable/disable autologging for a specific\n",
    "library. For example, if you train your model on tensorflow but use\n",
    "scikit-learn for data preprocessing, you may want to disable autologging\n",
    "for scikit-learn while keeping it enabled for tensorflow. You can achieve\n",
    "this by either (1) enable autologging only for tensorflow using tensorflow\n",
    "flavor (2) disable autologging for scikit-learn using its flavor with\n",
    "`disable=True`.\n",
    "\n",
    "```\n",
    "import mlflow\n",
    "\n",
    "# Option 1: Enable autologging only for tensorflow\n",
    "mlflow.tensorflow.autolog()\n",
    "\n",
    "# Option 2: Disable autologging for scikit-learn, but enable it for other libraries\n",
    "mlflow.sklearn.autolog(disable=True)\n",
    "mlflow.autolog()\n",
    "```\n"
   ]
  },
  {
   "cell_type": "code",
   "execution_count": null,
   "id": "923fe806-27c8-4b30-9f97-9024e9775135",
   "metadata": {},
   "outputs": [],
   "source": [
    "import mlflow\n",
    "\n",
    "# Option 1: Enable autologging only for PyTorch\n",
    "mlflow.tensorflow.autolog()\n",
    "\n",
    "# Option 2: Disable autologging for scikit-learn, but enable it for other libraries\n",
    "mlflow.sklearn.autolog(disable=True)\n",
    "mlflow.autolog()\n"
   ]
  }
 ],
 "metadata": {
  "kernelspec": {
   "display_name": "Python 3 (ipykernel)",
   "language": "python",
   "name": "python3"
  },
  "language_info": {
   "codemirror_mode": {
    "name": "ipython",
    "version": 3
   },
   "file_extension": ".py",
   "mimetype": "text/x-python",
   "name": "python",
   "nbconvert_exporter": "python",
   "pygments_lexer": "ipython3",
   "version": "3.12.4"
  }
 },
 "nbformat": 4,
 "nbformat_minor": 5
}
