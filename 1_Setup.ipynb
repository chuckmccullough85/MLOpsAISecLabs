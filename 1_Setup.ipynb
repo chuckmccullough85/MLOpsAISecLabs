{
 "cells": [
  {
   "cell_type": "markdown",
   "metadata": {},
   "source": [
    "# Lab 1 - Environment Setup\n",
    "Our first lab is to setup the environment for the course. We will be using Python for the course, and we will be using Jupyter Notebooks to write and run our code. We will also be using the Python libraries NumPy, Pandas, Matplotlib, and Scikit-learn. In this lab, we will install all the necessary software and libraries.\n",
    "\n",
    "| | |\n",
    "| --------- | --------------------------- |\n",
    "| Notebook  | Setup.ipynb    |\n",
    "| Builds On | None |\n",
    "| Time to complete | 10-30 minutes\n",
    "\n",
    "\n",
    "## Recommended Software\n",
    "- [Anaconda](https://www.anaconda.com/products/individual) - Anaconda is a distribution of Python that comes with all the necessary libraries and software for data science. It is the recommended way to install Python for this course.\n",
    "- [Visual Studio Code](https://code.visualstudio.com/) - Visual Studio Code is a lightweight code editor that is great for writing Python code. It has built-in support for Jupyter Notebooks and Python debugging.\n",
    "  - Jupyter extension for VS Code. ![](images/JupyterExtVSC.png)\n",
    "\n",
    "\n",
    "## Python\n",
    "First, let's verify the python environment.  Run the code in the cell below to check the python version.  You will probably need to select the python kernel for this notebook by clicking the 'Select Kernel' button in the upper right corner of the notebook.  We need to use Python 3 for this course."
   ]
  },
  {
   "cell_type": "code",
   "execution_count": null,
   "metadata": {},
   "outputs": [],
   "source": [
    "!python --version"
   ]
  },
  {
   "cell_type": "markdown",
   "metadata": {},
   "source": [
    "## Libraries\n",
    "\n",
    "Now, let's check to see if all the required libraries are installed. Run the code in the cell below to check to see if the libraries are installed. If you get an error, you will need to install the library.\n",
    "\n",
    "You can install a missing library by opening a terminal (*Terminal/New Terminal*) and typing `pip install libraryname`. For example, to install NumPy, you would type `pip install numpy`.\n",
    "\n",
    "> Note - you might need to close and reopen the notebook after setting the kernel so that the environment is correctly set up."
   ]
  },
  {
   "cell_type": "code",
   "execution_count": 4,
   "metadata": {},
   "outputs": [],
   "source": [
    "import pandas as pd\n",
    "import pickle\n",
    "import seaborn as sns\n",
    "import matplotlib.pyplot as plt\n",
    "import numpy as np\n",
    "import mlflow\n"
   ]
  }
 ],
 "metadata": {
  "kernelspec": {
   "display_name": "base",
   "language": "python",
   "name": "python3"
  },
  "language_info": {
   "codemirror_mode": {
    "name": "ipython",
    "version": 3
   },
   "file_extension": ".py",
   "mimetype": "text/x-python",
   "name": "python",
   "nbconvert_exporter": "python",
   "pygments_lexer": "ipython3",
   "version": "3.12.4"
  }
 },
 "nbformat": 4,
 "nbformat_minor": 2
}
