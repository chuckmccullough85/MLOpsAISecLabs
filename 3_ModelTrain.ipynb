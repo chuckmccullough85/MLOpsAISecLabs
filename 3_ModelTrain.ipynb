{
 "cells": [
  {
   "cell_type": "markdown",
   "metadata": {},
   "source": [
    "# Overview\n",
    "Continuing with the previous notebook, we will now train our model.\n",
    "| | |\n",
    "| --------- | --------------------------- |\n",
    "| Notebook  | 3_ModelTrain.ipynb    |\n",
    "| Builds On | DataCleansing |\n",
    "| Time to complete | 20 minutes\n",
    "\n",
    "First, execute this code to create the data frame.\n"
   ]
  },
  {
   "cell_type": "code",
   "execution_count": null,
   "metadata": {},
   "outputs": [],
   "source": [
    "import pandas as pd\n",
    "import seaborn as sns\n",
    "import matplotlib.pyplot as plt\n",
    "from sklearn.feature_extraction import DictVectorizer\n",
    "from sklearn.linear_model import LinearRegression  # this is your ALGORITHM\n",
    "from sklearn.metrics import root_mean_squared_error\n",
    "\n",
    "df = pd.read_csv('../tripdata.csv')\n",
    "df['duration'] = (df['lpep_dropoff_datetime'] - df['lpep_pickup_datetime']).dt.total_seconds() / 60\n",
    "df = df[(df.duration > 1) & (df.duration < 60)]\n",
    "sns.histplot(df['duration'])"
   ]
  },
  {
   "cell_type": "markdown",
   "metadata": {},
   "source": [
    "## Step 3: Categories and Numerical Values\n",
    "We will use the pick up and drop of location IDs as categories and the trip distance as the numerical value."
   ]
  },
  {
   "cell_type": "code",
   "execution_count": null,
   "metadata": {},
   "outputs": [],
   "source": [
    "categorical = ['PULocationID', 'DOLocationID']\n",
    "numerical = ['trip_distance']\n",
    "df[categorical] = df[categorical].astype(str)\n",
    "df.describe()\n"
   ]
  },
  {
   "cell_type": "markdown",
   "metadata": {},
   "source": [
    "## Step 4: Building the Model\n",
    "Use the comments below to transform the data into a sparse matrix and train the model."
   ]
  },
  {
   "cell_type": "code",
   "execution_count": null,
   "metadata": {},
   "outputs": [],
   "source": [
    "# create a dictionary for each row in the dataframe\n",
    "train_dicts = df[categorical + numerical].to_dict(orient='records')\n",
    "\n",
    "# Create a DictVectorizer object\n",
    "dv = DictVectorizer()\n",
    "\n",
    "# Use the DictVectorizer to transform the training data\n",
    "X_train = dv.fit_transform(train_dicts)  \n",
    "\n",
    "target = 'duration'   # this is my y value... what I'm trying to predict\n",
    "y_train = df[target].values\n",
    "\n",
    "#TODO: Create a linear regression object\n",
    "# lr = ?\n",
    "#TODO: Fit the model\n",
    "#lr.?\n",
    "#TODO: Predict the duration of the trip for each row in the training data\n",
    "#y_pred = lr.?\n",
    "#TODO: Calculate the RMSE of the model on the training data\n"
   ]
  },
  {
   "cell_type": "markdown",
   "metadata": {},
   "source": [
    "### Plot the results\n",
    "Finally, plot the results and see how the model performs."
   ]
  },
  {
   "cell_type": "code",
   "execution_count": null,
   "metadata": {},
   "outputs": [],
   "source": [
    "sns.histplot(y_pred, label='predicted', kde=True)\n",
    "sns.histplot(y_train, label='actual', kde=True)\n",
    "plt.legend()"
   ]
  }
 ],
 "metadata": {
  "kernelspec": {
   "display_name": "base",
   "language": "python",
   "name": "python3"
  },
  "language_info": {
   "codemirror_mode": {
    "name": "ipython",
    "version": 3
   },
   "file_extension": ".py",
   "mimetype": "text/x-python",
   "name": "python",
   "nbconvert_exporter": "python",
   "pygments_lexer": "ipython3",
   "version": "3.12.4"
  }
 },
 "nbformat": 4,
 "nbformat_minor": 2
}
